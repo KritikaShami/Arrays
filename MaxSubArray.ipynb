{
  "nbformat": 4,
  "nbformat_minor": 0,
  "metadata": {
    "colab": {
      "name": "MaxSubArray.ipynb",
      "provenance": []
    },
    "kernelspec": {
      "name": "python3",
      "display_name": "Python 3"
    },
    "language_info": {
      "name": "python"
    }
  },
  "cells": [
    {
      "cell_type": "markdown",
      "source": [
        "# **Max SubArray** <br>\n",
        "*longest part (in continuation) of an array having max sum.*"
      ],
      "metadata": {
        "id": "hNr_wyy-88Uv"
      }
    },
    {
      "cell_type": "markdown",
      "source": [
        "Input: array = [ -2, 1, -3, 4, -1, 2, 1, -5, 4 ] <br>\n",
        "Output: **6**"
      ],
      "metadata": {
        "id": "tUFwZ93L9CiC"
      }
    },
    {
      "cell_type": "code",
      "execution_count": 5,
      "metadata": {
        "id": "QNEQLbnu8izp"
      },
      "outputs": [],
      "source": [
        "import sys\n",
        "def maxSubArray(nums):\n",
        "        n = len(nums)\n",
        "        sum = 0\n",
        "        max1 = -sys.maxsize\n",
        "        for i in range(0,n):\n",
        "            sum += nums[i]\n",
        "            max1 = max(max1, sum)\n",
        "            # print(max1)\n",
        "            if sum < 0:\n",
        "                sum = 0\n",
        "        return max1"
      ]
    },
    {
      "cell_type": "code",
      "source": [
        "ary = [ -2, 1, -3, 4, -1, 2, 1, -5, 4 ]\n",
        "print(maxSubArray(ary))"
      ],
      "metadata": {
        "colab": {
          "base_uri": "https://localhost:8080/"
        },
        "id": "B14Hi3R69VLY",
        "outputId": "c0e12418-4d82-4e17-f9c5-6250f5906ea2"
      },
      "execution_count": 6,
      "outputs": [
        {
          "output_type": "stream",
          "name": "stdout",
          "text": [
            "6\n"
          ]
        }
      ]
    },
    {
      "cell_type": "markdown",
      "source": [
        "*Explanation: [ 4, -1, 2, 1 ] has the largest   **sum = 6**.*"
      ],
      "metadata": {
        "id": "vfNi6MPR9ojP"
      }
    },
    {
      "cell_type": "code",
      "source": [
        "ary = [5,4,-1,7,8]\n",
        "print(maxSubArray(ary))"
      ],
      "metadata": {
        "colab": {
          "base_uri": "https://localhost:8080/"
        },
        "id": "cT5cXo_T95JZ",
        "outputId": "855d3087-5b87-448a-efe0-4ad6f6898772"
      },
      "execution_count": 7,
      "outputs": [
        {
          "output_type": "stream",
          "name": "stdout",
          "text": [
            "23\n"
          ]
        }
      ]
    }
  ]
}