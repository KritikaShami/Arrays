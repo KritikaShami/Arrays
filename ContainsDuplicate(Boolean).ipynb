{
  "nbformat": 4,
  "nbformat_minor": 0,
  "metadata": {
    "colab": {
      "name": "ContainsDuplicate(Boolean).ipynb",
      "provenance": []
    },
    "kernelspec": {
      "name": "python3",
      "display_name": "Python 3"
    },
    "language_info": {
      "name": "python"
    }
  },
  "cells": [
    {
      "cell_type": "markdown",
      "source": [
        "# **Contains Duplicate elements in an array**<br>\n",
        "check and return true if any value appears at least twice in the array, and return false if every element is distinct."
      ],
      "metadata": {
        "id": "d_Z4nA4Pjowa"
      }
    },
    {
      "cell_type": "markdown",
      "source": [
        "Input:   [ 1, 2, 3, 1 ]\n",
        "<br>\n",
        "Output: True"
      ],
      "metadata": {
        "id": "gQxdS_YIjouw"
      }
    },
    {
      "cell_type": "code",
      "execution_count": 8,
      "metadata": {
        "id": "v3hWlcBwizsD"
      },
      "outputs": [],
      "source": [
        "def ContainsDuplicate(nums):\n",
        "        nums.sort()\n",
        "        hashM = {}\n",
        "        \n",
        "        for i in nums:\n",
        "            if i in hashM:\n",
        "                return True\n",
        "            else:\n",
        "                hashM[i] = 1\n",
        "        return False"
      ]
    },
    {
      "cell_type": "code",
      "source": [
        "nums = [1,2,3,1]\n",
        "print(ContainsDuplicate(nums))"
      ],
      "metadata": {
        "colab": {
          "base_uri": "https://localhost:8080/"
        },
        "id": "4gqcbT3gjCgK",
        "outputId": "f5cfe1b8-49fa-4e0a-adb0-492d001e2b5d"
      },
      "execution_count": 9,
      "outputs": [
        {
          "output_type": "stream",
          "name": "stdout",
          "text": [
            "True\n"
          ]
        }
      ]
    },
    {
      "cell_type": "code",
      "source": [
        "nums = [1,2,3,4]\n",
        "print(ContainsDuplicate(nums))"
      ],
      "metadata": {
        "colab": {
          "base_uri": "https://localhost:8080/"
        },
        "id": "g9rKUKDWjQ_b",
        "outputId": "ead44545-ec82-411b-8be2-b18cb68043f6"
      },
      "execution_count": 10,
      "outputs": [
        {
          "output_type": "stream",
          "name": "stdout",
          "text": [
            "False\n"
          ]
        }
      ]
    }
  ]
}