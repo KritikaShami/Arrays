{
  "nbformat": 4,
  "nbformat_minor": 0,
  "metadata": {
    "colab": {
      "name": "Palindrome_Number.ipynb",
      "provenance": []
    },
    "kernelspec": {
      "name": "python3",
      "display_name": "Python 3"
    },
    "language_info": {
      "name": "python"
    }
  },
  "cells": [
    {
      "cell_type": "markdown",
      "source": [
        "## **Palindrome Number**"
      ],
      "metadata": {
        "id": "ePvzzPK6vBJv"
      }
    },
    {
      "cell_type": "markdown",
      "source": [
        "Input: x = 121 <br>\n",
        "Output: **true**"
      ],
      "metadata": {
        "id": "eTbBjXIXvGX2"
      }
    },
    {
      "cell_type": "code",
      "execution_count": 1,
      "metadata": {
        "id": "MF7WN6cBu5hj"
      },
      "outputs": [],
      "source": [
        "def palindrome_Num(x):\n",
        "            \n",
        "        if x < 0:\n",
        "            return False\n",
        "        temp = x\n",
        "        i = rev = 0\n",
        "        # flag = True\n",
        "        \n",
        "        while temp > 0:\n",
        "            temp, dig = divmod(temp, 10)\n",
        "            rev = rev * 10 + dig\n",
        "            i += 1\n",
        "           \n",
        "        return x == rev"
      ]
    },
    {
      "cell_type": "code",
      "source": [
        "n = int(input())\n",
        "ans = palindrome_Num(n)\n",
        "print(ans)"
      ],
      "metadata": {
        "colab": {
          "base_uri": "https://localhost:8080/"
        },
        "id": "_PUAlpLsvlCB",
        "outputId": "f38eaf27-61b1-47ed-a3c8-f013dea800f8"
      },
      "execution_count": 2,
      "outputs": [
        {
          "output_type": "stream",
          "name": "stdout",
          "text": [
            "121\n",
            "True\n"
          ]
        }
      ]
    },
    {
      "cell_type": "code",
      "source": [
        "n = int(input())\n",
        "ans = palindrome_Num(n)\n",
        "print(ans)"
      ],
      "metadata": {
        "colab": {
          "base_uri": "https://localhost:8080/"
        },
        "id": "9Qg6a0vWvwiD",
        "outputId": "a6298604-90dc-4b2b-ea96-168985cb2dc1"
      },
      "execution_count": 3,
      "outputs": [
        {
          "output_type": "stream",
          "name": "stdout",
          "text": [
            "-121\n",
            "False\n"
          ]
        }
      ]
    },
    {
      "cell_type": "markdown",
      "source": [
        "*From left to right, it reads -121. From right to left, it becomes 121-. Therefore it is not a palindrome.*"
      ],
      "metadata": {
        "id": "bK1JWVipv4wP"
      }
    }
  ]
}