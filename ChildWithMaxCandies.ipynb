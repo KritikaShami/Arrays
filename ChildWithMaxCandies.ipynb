{
  "nbformat": 4,
  "nbformat_minor": 0,
  "metadata": {
    "colab": {
      "name": "ChildWithMaxCandies.ipynb",
      "provenance": []
    },
    "kernelspec": {
      "name": "python3",
      "display_name": "Python 3"
    },
    "language_info": {
      "name": "python"
    }
  },
  "cells": [
    {
      "cell_type": "markdown",
      "source": [
        "# Child with the greatest no. of candies"
      ],
      "metadata": {
        "id": "I-0qqQHDJhWS"
      }
    },
    {
      "cell_type": "markdown",
      "source": [
        "Input: candies = [ 2, 3, 5, 1, 3 ],   <br> extraCandies = 3 <br>\n",
        "Output: **[ true, true, true, false, true ]** "
      ],
      "metadata": {
        "id": "sMKYMyutJoR_"
      }
    },
    {
      "cell_type": "code",
      "execution_count": 2,
      "metadata": {
        "id": "srmTQwXrIN8C"
      },
      "outputs": [],
      "source": [
        "def ChildWithMaxCandies(candies, extraCandies):\n",
        "        n = len(candies)\n",
        "        new = []\n",
        "        maxCandy = max(candies)\n",
        "        for i in candies:\n",
        "            if (i + extraCandies ) >= maxCandy:\n",
        "                new.append(True)\n",
        "            else:\n",
        "                new.append(False)\n",
        "        return new"
      ]
    },
    {
      "cell_type": "code",
      "source": [
        "candies = [ 2, 3, 5, 1, 3 ]\n",
        "extraCandies = 3\n",
        "print(ChildWithMaxCandies(candies, extraCandies))"
      ],
      "metadata": {
        "colab": {
          "base_uri": "https://localhost:8080/"
        },
        "id": "Dm22AU85JfTQ",
        "outputId": "5118678c-811a-4d0a-9611-67ab35b9c90b"
      },
      "execution_count": 3,
      "outputs": [
        {
          "output_type": "stream",
          "name": "stdout",
          "text": [
            "[True, True, True, False, True]\n"
          ]
        }
      ]
    },
    {
      "cell_type": "markdown",
      "source": [
        "*.**Explanation:** If you give all extraCandies to:*\n",
        "- *child 1, they will have 2 + 3 = 5 candies, which is the greatest among the children.*\n",
        "- *child 2, they will have 3 + 3 = 6 candies, which is the greatest among the children.*\n",
        "- *child 3, they will have 5 + 3 = 8 candies, which is the greatest among the children.*\n",
        "- *child 4, they will have 1 + 3 = 4 candies, which is not the greatest among the children.*\n",
        "- *child 5, they will have 3 + 3 = 6 candies, which is the greatest among the children*"
      ],
      "metadata": {
        "id": "VDb433RbKFUq"
      }
    },
    {
      "cell_type": "code",
      "source": [
        "candies = [ 4, 2, 1, 1, 2 ]\n",
        "extraCandies = 1\n",
        "print(ChildWithMaxCandies(candies, extraCandies))"
      ],
      "metadata": {
        "colab": {
          "base_uri": "https://localhost:8080/"
        },
        "id": "J8aO3emnKu0Z",
        "outputId": "785bf59d-9d04-465c-9979-5a9023184fe7"
      },
      "execution_count": 4,
      "outputs": [
        {
          "output_type": "stream",
          "name": "stdout",
          "text": [
            "[True, False, False, False, False]\n"
          ]
        }
      ]
    }
  ]
}